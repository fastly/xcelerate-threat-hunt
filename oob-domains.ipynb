{
  "cells": [
    {
      "cell_type": "markdown",
      "metadata": {},
      "source": [
        "Table of contents\n",
        "\n",
        "* [Out-of-Band Domain Threat Hunt](#out-of-band-domain-threat-hunt)\n",
        "  * [Hypothesis](#hypothesis)\n",
        "  * [Investigation](#investigation)\n",
        "  * [Requirements](#requirements)\n",
        "* [Analysis](#analysis)\n",
        "  * [Are attackers using common Out-of-band application security testing (OAST) domains?](#are-attackers-using-common-out-of-band-application-security-testing-oast-domains-–-eg-oastifycom-interactsh-oastfun)\n",
        "    * [Distribution of OAST domains](#distribution-of-oast-domains)\n",
        "    * [Breakdown of OAST domains by attack type](#breakdown-of-oast-domains-by-attack-type)\n",
        "  * [Is the attacker server still live? Can we grab the payload from it? ](#is-the-attacker-server-still-live-can-we-grab-the-payload-from-it)\n",
        "    * [Sandbox scan of OOB Domain using urlscan.io](#sandbox-scan-of-oob-domain-using-urlscanio)\n",
        "    * [Display screenshot of scanned url](#display-screenshot-of-scanned-url)"
      ]
    },
    {
      "cell_type": "markdown",
      "metadata": {
        "id": "j_gLgwU8H-7u"
      },
      "source": [
        "# Out-of-Band Domain Threat Hunt\n",
        "\n",
        "## Hypothesis\n",
        "Attackers use techniques that callback to their out-of-band (OOB) domains to exploit vulnerabilities, bypass security controls, and exfiltrate data. These domains may appear in WAF logs. By analyzing WAF logs for unusual domain names not typical of our traffic, we can identify potential threats and respond accordingly.\n",
        "\n",
        "<img src=\"https://www.fastly.com/cimages/6pk8mg3yh2ee/2PCCPThjdCOr5NUpWT03hG/751e27d8f2bb38dd0a4bf95ea56fcceb/Figure_7_captionsvg.svg\" width=\"600\" height=\"300\"/></img>\n",
        "\n",
        "## Investigation\n",
        "\n",
        "The first thing needed for any threat hunt is data. In this case, we are focused on WAF logs are based on alerts of potential malice. As a Fastly Next-Gen WAF (NGWAF) customer, searching through a site’s request feed is an excellent source for this data.\n",
        "\n",
        "You can search by filtering on tags, in particular the tag object fields type and value. Through the use of the newly introduced Out-of-Band Domain (OOB-DOMAIN) signal we can filter and aggregate based on this signal.\n",
        "\n",
        "## Requirements\n",
        "\n",
        "*   [NGWAF API Key](https://docs.fastly.com/en/ngwaf/using-our-api)\n",
        "*   (optional) [URLScan.io API Key](https://urlscan.io/docs/api/)\n",
        "\n",
        "Configure these environment variables.\n",
        "\n",
        "* SIGSCI_CORP\n",
        "* SIGSCI_EMAIL\n",
        "* SIGSCI_SITE\n",
        "* SIGSCI_TOKEN\n",
        "* URLSCAN_API_KEY"
      ]
    },
    {
      "cell_type": "code",
      "execution_count": null,
      "metadata": {},
      "outputs": [],
      "source": [
        "%pip install python-dotenv"
      ]
    },
    {
      "cell_type": "code",
      "execution_count": null,
      "metadata": {
        "id": "jD8B6xfm4I-s"
      },
      "outputs": [],
      "source": [
        "import requests, os, json\n",
        "from dotenv import load_dotenv"
      ]
    },
    {
      "cell_type": "code",
      "execution_count": null,
      "metadata": {
        "id": "5EhWMOQt4V9K"
      },
      "outputs": [],
      "source": [
        "\n",
        "# Load environment variables\n",
        "load_dotenv()\n",
        "\n",
        "email = os.getenv('SIGSCI_EMAIL')\n",
        "token = os.getenv('SIGSCI_TOKEN')\n",
        "corp = os.getenv('SIGSCI_CORP')\n",
        "site = os.getenv('SIGSCI_SITE')\n",
        "\n",
        "url = 'https://dashboard.signalsciences.net'\n",
        "\n",
        "headers = {\n",
        "    'Content-type': 'application/json',\n",
        "    'x-api-user': email,\n",
        "    'x-api-token': token\n",
        "}\n",
        "\n",
        "endpoint = f\"/api/v0/corps/{corp}/sites/{site}/requests\""
      ]
    },
    {
      "cell_type": "code",
      "execution_count": null,
      "metadata": {
        "id": "tHHYZ7Aj4GOO"
      },
      "outputs": [],
      "source": [
        "# search for requests tagged with OOB-DOMAIN\n",
        "params = {\"q\": \"from:-6h tag:OOB-DOMAIN\"}\n",
        "resp = requests.get(url + endpoint, headers=headers, params=params)\n",
        "search_results = resp.json()['data']\n",
        "\n",
        "while 'next' in resp.json():\n",
        "    next_uri = resp.json()['next']['uri']\n",
        "    resp = requests.get(url + next_uri, headers=headers)\n",
        "    search_results.extend(resp.json()['data'])\n",
        "\n",
        "print(f\"Found {len(search_results)} results that contain OOB domains\")"
      ]
    },
    {
      "cell_type": "markdown",
      "metadata": {
        "id": "4kAqedni6RUS"
      },
      "source": [
        "## Analysis\n",
        "\n",
        "### Are attackers using common Out-of-band application security testing (OAST) domains? – e.g. oastify.com, interact.sh, oast.fun?"
      ]
    },
    {
      "cell_type": "code",
      "execution_count": null,
      "metadata": {},
      "outputs": [],
      "source": [
        "%pip install pandas matplotlib"
      ]
    },
    {
      "cell_type": "code",
      "execution_count": null,
      "metadata": {
        "id": "lztVDl9pFAC8"
      },
      "outputs": [],
      "source": [
        "import pandas as pd\n",
        "import matplotlib.pyplot as plt"
      ]
    },
    {
      "cell_type": "code",
      "execution_count": null,
      "metadata": {
        "id": "iHX7oMAADe2h"
      },
      "outputs": [],
      "source": [
        "# Enrich search results with associated OAST domains\n",
        "oast = {\n",
        "    \"project discovery\": [\"interact.sh\", \"oast.fun\", \"interactsh.com\", \"oast.site\", \"oast.me\", \"oast.live\", \"oast.online\", \"oast.pro\"],\n",
        "    \"tenable\": [\"nessus.org\"],\n",
        "    \"invicti\": [\"r87.me\"],\n",
        "    \"xss hunter\": [\"xss.ht\"],\n",
        "    \"acunetix\": [\"bxss.me\"],\n",
        "    \"bxss hunter\": [\"bxss.in\"],\n",
        "    \"burp\": [\"oastify.com\"],\n",
        "    \"appcheck ng\": [\"ptst.io\"],\n",
        "    \"xss report\":[\"xss.report\"],\n",
        "    \"canarytokens\":[\"canarytokens.com\"]\n",
        "}\n",
        "\n",
        "# If the result contains a signaled value associated to an OAST domain it adds a key called 'oast' with the name of the security tool\n",
        "# If no matching domain is found, it sets the 'oast' key to \"non-oast\".\n",
        "for result in search_results:\n",
        "    result['oast'] = next((key for key, domains in oast.items() if any(domain in tag['value'] for tag in result['tags'] if tag['type'] == 'OOB-DOMAIN' for domain in domains)), \"non-oast\")"
      ]
    },
    {
      "cell_type": "markdown",
      "metadata": {},
      "source": [
        "#### Distribution of OAST domains"
      ]
    },
    {
      "cell_type": "code",
      "execution_count": null,
      "metadata": {
        "id": "7TcMKxkhlgQf"
      },
      "outputs": [],
      "source": [
        "# Create a DataFrame from the search results\n",
        "df = pd.DataFrame(search_results)\n",
        "df['oast'].value_counts().nlargest(40).plot(kind='bar', figsize=(10,5))\n",
        "plt.ylabel('Number of attempts')\n",
        "plt.xlabel('OAST domain')\n",
        "plt.show()"
      ]
    },
    {
      "cell_type": "markdown",
      "metadata": {},
      "source": [
        "#### Breakdown of OAST domains by attack type"
      ]
    },
    {
      "cell_type": "code",
      "execution_count": null,
      "metadata": {
        "id": "DMKZ5Mk-ln3K"
      },
      "outputs": [],
      "source": [
        "\n",
        "attack_types = ['XSS', 'SQLI', 'XXE', 'CMDEXE', 'LOG4J-JNDI']\n",
        "filtered_tags = df['tags'].apply(lambda tags: [tag for tag in tags if tag['type'] in attack_types])\n",
        "filtered_df = pd.DataFrame([(tag['type'], row['oast']) for _, row in df.iterrows() for tag in filtered_tags[_]], columns=['Attack Type', 'OAST'])\n",
        "\n",
        "filtered_df.groupby(['Attack Type', 'OAST']).size().unstack().plot(kind='bar', figsize=(10, 6))\n",
        "plt.title('OAST domain by attack type')\n",
        "plt.xlabel('Attack Type')\n",
        "plt.ylabel('Count')\n",
        "plt.show()"
      ]
    },
    {
      "cell_type": "markdown",
      "metadata": {
        "id": "JRjs8j-mc7Lw"
      },
      "source": [
        "### Is the attacker server still live? Can we grab the payload from it?  "
      ]
    },
    {
      "cell_type": "code",
      "execution_count": null,
      "metadata": {},
      "outputs": [],
      "source": [
        "%pip install ipywidgets"
      ]
    },
    {
      "cell_type": "code",
      "execution_count": null,
      "metadata": {
        "id": "f-OmfaZOwiOT"
      },
      "outputs": [],
      "source": [
        "import ipywidgets as widgets\n",
        "\n",
        "payloads = list({signal['value'] for tags in df['tags'] for signal in tags if signal['type'] == 'OOB-DOMAIN'})\n",
        "\n",
        "# Create a dropdown widget with extracted payloads\n",
        "dropdown = widgets.Dropdown(\n",
        "    options=payloads,\n",
        "    value=None,\n",
        "    description='Payloads:',\n",
        "    disabled=False\n",
        ")\n",
        "# # Display the dropdown\n",
        "display(dropdown)\n"
      ]
    },
    {
      "cell_type": "markdown",
      "metadata": {},
      "source": [
        "#### Sandbox scan of OOB Domain using urlscan.io"
      ]
    },
    {
      "cell_type": "code",
      "execution_count": null,
      "metadata": {
        "id": "qEZDduJSeRnI"
      },
      "outputs": [],
      "source": [
        "# scan oob domain\n",
        "from pprint import pprint\n",
        "import re\n",
        "\n",
        "urlscan_api_key = os.getenv('URLSCAN_API_KEY')\n",
        "\n",
        "headers = {\n",
        "    'API-Key': urlscan_api_key,\n",
        "    'Content-Type':'application/json'\n",
        "    }\n",
        "\n",
        "# Extract URL from payload\n",
        "url_regex = r'https?://[\\w\\.-]+(?:/[\\w\\.-]+)*'\n",
        "urls = list(set(re.findall(url_regex, dropdown.value)))\n",
        "\n",
        "if not urls:\n",
        "    print(\"No URLs found in the selected payload\")\n",
        "    exit()\n",
        "\n",
        "data = {\"url\": urls[0], \"visibility\": \"private\"}\n",
        "urlscan_resp = requests.post('https://urlscan.io/api/v1/scan/', headers=headers, data=json.dumps(data))\n",
        "\n",
        "pprint(urlscan_resp.json())"
      ]
    },
    {
      "cell_type": "markdown",
      "metadata": {},
      "source": [
        "#### Display screenshot of scanned url"
      ]
    },
    {
      "cell_type": "code",
      "execution_count": null,
      "metadata": {
        "id": "sQknhF67jGiA"
      },
      "outputs": [],
      "source": [
        "from PIL import Image\n",
        "from io import BytesIO\n",
        "from IPython.display import display\n",
        "\n",
        "uuid = urlscan_resp.json()['uuid']\n",
        "headers = {'API-Key': urlscan_api_key}\n",
        "urlscan_screenshot_resp = requests.post(f'https://urlscan.io/screenshots/{uuid}.png', headers=headers)\n",
        "\n",
        "# Check if the request was successful\n",
        "if urlscan_screenshot_resp.status_code == 200:\n",
        "    # Open the image from the response's content\n",
        "    image = Image.open(BytesIO(urlscan_screenshot_resp.content))\n",
        "    # Display the image in the Jupyter Notebook\n",
        "    display(image)\n",
        "else:\n",
        "    print(f\"Failed to retrieve the image. Status code: {urlscan_screenshot_resp.status_code}\")"
      ]
    }
  ],
  "metadata": {
    "colab": {
      "provenance": []
    },
    "kernelspec": {
      "display_name": "Python 3",
      "name": "python3"
    },
    "language_info": {
      "codemirror_mode": {
        "name": "ipython",
        "version": 3
      },
      "file_extension": ".py",
      "mimetype": "text/x-python",
      "name": "python",
      "nbconvert_exporter": "python",
      "pygments_lexer": "ipython3",
      "version": "3.11.5"
    }
  },
  "nbformat": 4,
  "nbformat_minor": 0
}
